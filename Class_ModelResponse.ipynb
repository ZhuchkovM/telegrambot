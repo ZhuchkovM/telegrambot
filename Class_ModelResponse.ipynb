{
 "cells": [
  {
   "cell_type": "code",
   "execution_count": 2,
   "id": "b237000d-3ae7-444e-9ac5-da654bc78603",
   "metadata": {},
   "outputs": [],
   "source": [
    "from typing import List, Optional\n",
    "# https://docs.python.org/3/library/typing.html\n",
    "# https://docs-python.ru/standart-library/modul-typing-python/\n",
    "\n",
    "class UsageResponse:\n",
    "    prompt_tokens: int\n",
    "    completion_tokens: int\n",
    "    total_tokens: int\n",
    "\n",
    "class MessageResponse:\n",
    "    role: str\n",
    "    content: str\n",
    "\n",
    "class ChoiceResponse:\n",
    "    index: int\n",
    "    message: MessageResponse\n",
    "    logprobs: Optional[str]\n",
    "    finish_reason: str\n",
    "\n",
    "class ModelResponse:\n",
    "    id: str\n",
    "    object: str\n",
    "    created: int\n",
    "    model: str\n",
    "    choices: List[ChoiceResponse]\n",
    "    usage: UsageResponse\n",
    "    system_fingerprint: str"
   ]
  },
  {
   "cell_type": "code",
   "execution_count": null,
   "id": "549fdb62-60f1-4e3d-abc4-a4ebc2e2894a",
   "metadata": {},
   "outputs": [],
   "source": []
  }
 ],
 "metadata": {
  "kernelspec": {
   "display_name": "Python 3 (ipykernel)",
   "language": "python",
   "name": "python3"
  },
  "language_info": {
   "codemirror_mode": {
    "name": "ipython",
    "version": 3
   },
   "file_extension": ".py",
   "mimetype": "text/x-python",
   "name": "python",
   "nbconvert_exporter": "python",
   "pygments_lexer": "ipython3",
   "version": "3.12.9"
  }
 },
 "nbformat": 4,
 "nbformat_minor": 5
}
